{
  "nbformat": 4,
  "nbformat_minor": 0,
  "metadata": {
    "colab": {
      "name": "GarbageCollectorPy.ipynb",
      "provenance": [],
      "authorship_tag": "ABX9TyP0Dn2JbMg14LDh9O6dKxNX",
      "include_colab_link": true
    },
    "kernelspec": {
      "name": "python3",
      "display_name": "Python 3"
    },
    "language_info": {
      "name": "python"
    }
  },
  "cells": [
    {
      "cell_type": "markdown",
      "metadata": {
        "id": "view-in-github",
        "colab_type": "text"
      },
      "source": [
        "<a href=\"https://colab.research.google.com/github/Madcz12/GCollectorPY/blob/main/GarbageCollectorPy.ipynb\" target=\"_parent\"><img src=\"https://colab.research.google.com/assets/colab-badge.svg\" alt=\"Open In Colab\"/></a>"
      ]
    },
    {
      "cell_type": "code",
      "execution_count": null,
      "metadata": {
        "id": "tr-scVU9SU9N"
      },
      "outputs": [],
      "source": [
        "import ctypes\n",
        "import gc"
      ]
    },
    {
      "cell_type": "code",
      "source": [
        "def ref_count(address):\n",
        "    return ctypes.c_long.from_address(address).value\n",
        "\n",
        "def object_by_id(object_id):\n",
        "    for obj in gc.get_objects():\n",
        "        if id(obj) == object_id:\n",
        "            return \"object exists\"\n",
        "    return \"not found\""
      ],
      "metadata": {
        "id": "e3rd7NZBSdM6"
      },
      "execution_count": null,
      "outputs": []
    },
    {
      "cell_type": "code",
      "source": [
        "class A: \n",
        "    def __init__(self):\n",
        "        self.b = B(self)\n",
        "        print('A: self: {0}, b: {1}'.format(hex(id(self)), hex(id(self.b))))"
      ],
      "metadata": {
        "id": "4grCYn8QSgkG"
      },
      "execution_count": null,
      "outputs": []
    },
    {
      "cell_type": "code",
      "source": [
        "class B: \n",
        "    def __init__(self, a):\n",
        "        self.a = a\n",
        "        print('B: self: {0}, b: {1}'.format(hex(id(self)), hex(id(self.a))))"
      ],
      "metadata": {
        "id": "W1z9siLoSj0g"
      },
      "execution_count": null,
      "outputs": []
    },
    {
      "cell_type": "code",
      "source": [
        "gc.disable()"
      ],
      "metadata": {
        "id": "_x_tsi3BSmvL"
      },
      "execution_count": null,
      "outputs": []
    },
    {
      "cell_type": "code",
      "source": [
        "my_var = A()\n",
        "hex(id(my_var))\n",
        "print(hex(id(my_var.b)))\n",
        "print(hex(id(my_var.b.a)))\n",
        "\n",
        "a_id = id(my_var)\n",
        "b_id = id(my_var.b)\n",
        "\n",
        "ref_count(a_id)\n",
        "ref_count(b_id)\n",
        "object_by_id(a_id)\n",
        "object_by_id(b_id)\n",
        "my_var = None\n",
        "ref_count(a_id)\n",
        "ref_count(b_id)\n",
        "\n",
        "object_by_id(a_id)\n",
        "object_by_id(b_id)\n",
        "\n",
        "gc.collect()\n",
        "object_by_id(a_id)\n",
        "object_by_id(b_id)\n",
        "ref_count(a_id)\n",
        "ref_count(b_id)\n"
      ],
      "metadata": {
        "colab": {
          "base_uri": "https://localhost:8080/"
        },
        "id": "Ne0491BqSsfp",
        "outputId": "9c2a0a1e-2eb1-43c8-8dc8-578ef6209d56"
      },
      "execution_count": null,
      "outputs": [
        {
          "output_type": "stream",
          "name": "stdout",
          "text": [
            "B: self: 0x7f787025ba90, b: 0x7f787025ba50\n",
            "A: self: 0x7f787025ba50, b: 0x7f787025ba90\n",
            "0x7f787025ba90\n",
            "0x7f787025ba50\n"
          ]
        },
        {
          "output_type": "execute_result",
          "data": {
            "text/plain": [
              "0"
            ]
          },
          "metadata": {},
          "execution_count": 6
        }
      ]
    }
  ]
}